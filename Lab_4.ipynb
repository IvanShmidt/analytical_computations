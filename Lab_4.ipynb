{
 "cells": [
  {
   "cell_type": "code",
   "execution_count": 1,
   "metadata": {},
   "outputs": [],
   "source": [
    "import random\n",
    "import sympy as np\n",
    "from fractions import gcd"
   ]
  },
  {
   "cell_type": "code",
   "execution_count": 69,
   "metadata": {},
   "outputs": [],
   "source": [
    "# Простые числа\n",
    "prime_numbers = []\n",
    "for i in np.primerange(6,66):\n",
    "    prime_numbers.append(i)\n",
    "\n",
    "# Квадратичные вычеты\n",
    "def quadr_res(prime_numbers):\n",
    "        q = []\n",
    "        for k in prime_numbers:\n",
    "                temprorary = []\n",
    "                for t in range(k):\n",
    "                        if (t ** 2) % k not in temprorary:\n",
    "                                temprorary.append((t ** 2) % k)\n",
    "                q.append(temprorary)\n",
    "        return q"
   ]
  },
  {
   "cell_type": "code",
   "execution_count": 57,
   "metadata": {},
   "outputs": [],
   "source": [
    "\n",
    "#Факторизация Ферма\n",
    "def Ferma(prime_numbers, quadratic,n):\n",
    "        for i in range(int(n ** (1/2))+3):\n",
    "                flag = 0\n",
    "                for j in range(len(prime_numbers)):\n",
    "                        if (((n + i ** 2) % prime_numbers[j]) in quadratic[j]):\n",
    "                                flag += 1\n",
    "                if (flag == len(prime_numbers)):\n",
    "                        if int((n + i ** 2) ** (1/2)) ** 2 == n + i ** 2:\n",
    "                                j = int((n + i ** 2) ** (1/2))\n",
    "                                return i, j, i+j, j-i\n",
    "                            \n",
    "# Факторизация Полларда                \n",
    "def Pollard(n):\n",
    "        x, y, i = 2, 1, 0\n",
    "        stage = 2\n",
    "        x_list = [x]\n",
    "        \n",
    "        while (gcd(n,abs(x-y)) == 1):\n",
    "                if (i == stage):\n",
    "                        y = x\n",
    "                        stage = stage*2\n",
    "                x = (x*x - 1) % n\n",
    "                x_list.append(x)\n",
    "                i = i + 1\n",
    "        res = gcd(n, abs(x-y))\n",
    "        \n",
    "        return res, n // res, i"
   ]
  },
  {
   "cell_type": "code",
   "execution_count": 70,
   "metadata": {},
   "outputs": [
    {
     "name": "stdout",
     "output_type": "stream",
     "text": [
      "7 - [0, 1, 4, 2]\n",
      "11 - [0, 1, 4, 9, 5, 3]\n",
      "13 - [0, 1, 4, 9, 3, 12, 10]\n",
      "17 - [0, 1, 4, 9, 16, 8, 2, 15, 13]\n",
      "19 - [0, 1, 4, 9, 16, 6, 17, 11, 7, 5]\n",
      "23 - [0, 1, 4, 9, 16, 2, 13, 3, 18, 12, 8, 6]\n",
      "29 - [0, 1, 4, 9, 16, 25, 7, 20, 6, 23, 13, 5, 28, 24, 22]\n",
      "31 - [0, 1, 4, 9, 16, 25, 5, 18, 2, 19, 7, 28, 20, 14, 10, 8]\n",
      "37 - [0, 1, 4, 9, 16, 25, 36, 12, 27, 7, 26, 10, 33, 21, 11, 3, 34, 30, 28]\n",
      "41 - [0, 1, 4, 9, 16, 25, 36, 8, 23, 40, 18, 39, 21, 5, 32, 20, 10, 2, 37, 33, 31]\n",
      "43 - [0, 1, 4, 9, 16, 25, 36, 6, 21, 38, 14, 35, 15, 40, 24, 10, 41, 31, 23, 17, 13, 11]\n",
      "47 - [0, 1, 4, 9, 16, 25, 36, 2, 17, 34, 6, 27, 3, 28, 8, 37, 21, 7, 42, 32, 24, 18, 14, 12]\n",
      "53 - [0, 1, 4, 9, 16, 25, 36, 49, 11, 28, 47, 15, 38, 10, 37, 13, 44, 24, 6, 43, 29, 17, 7, 52, 46, 42, 40]\n",
      "59 - [0, 1, 4, 9, 16, 25, 36, 49, 5, 22, 41, 3, 26, 51, 19, 48, 20, 53, 29, 7, 46, 28, 12, 57, 45, 35, 27, 21, 17, 15]\n",
      "61 - [0, 1, 4, 9, 16, 25, 36, 49, 3, 20, 39, 60, 22, 47, 13, 42, 12, 45, 19, 56, 34, 14, 57, 41, 27, 15, 5, 58, 52, 48, 46]\n"
     ]
    }
   ],
   "source": [
    "quadratic = quadr_res(prime_numbers)\n",
    "\n",
    "for i, el in enumerate(quadratic):\n",
    "    print(prime_numbers[i], '-', el)"
   ]
  },
  {
   "cell_type": "code",
   "execution_count": 66,
   "metadata": {},
   "outputs": [],
   "source": [
    "n1 = 240314471074441\n",
    "n2 = 240316866165521\n",
    "n3 = 20570254562243\n",
    "n4 = 23901581425837\n",
    "\n",
    "N = [n1, n2, n3, n4]"
   ]
  },
  {
   "cell_type": "code",
   "execution_count": 65,
   "metadata": {},
   "outputs": [
    {
     "name": "stdout",
     "output_type": "stream",
     "text": [
      "Ferma method\n",
      "number: 240314471074441, (12972, 15502085, 15515057, 15489113)\n",
      "number: 240316866165521, (11380, 15502161, 15513541, 15490781)\n",
      "Pollard method\n",
      "number: 20570254562243, (1327903, 15490781, 1051)\n",
      "number: 23901581425837, (1540541, 15515057, 2238)\n"
     ]
    },
    {
     "name": "stderr",
     "output_type": "stream",
     "text": [
      "C:\\Users\\Versus\\Anaconda3\\lib\\site-packages\\ipykernel\\__main__.py:20: DeprecationWarning: fractions.gcd() is deprecated. Use math.gcd() instead.\n",
      "C:\\Users\\Versus\\Anaconda3\\lib\\site-packages\\ipykernel\\__main__.py:27: DeprecationWarning: fractions.gcd() is deprecated. Use math.gcd() instead.\n"
     ]
    }
   ],
   "source": [
    "print('Ferma method')\n",
    "for i in N[:2]:\n",
    "    print('number: {}, {}'.format(i, Ferma(prime_numbers, quadratic, i)))\n",
    "    \n",
    "print('Pollard method')\n",
    "for i in N[2:]:\n",
    "    print('number: {}, {}'.format(i, Pollard(i)))"
   ]
  },
  {
   "cell_type": "code",
   "execution_count": null,
   "metadata": {},
   "outputs": [],
   "source": []
  }
 ],
 "metadata": {
  "kernelspec": {
   "display_name": "Python [conda env:Anaconda3]",
   "language": "python",
   "name": "conda-env-Anaconda3-py"
  },
  "language_info": {
   "codemirror_mode": {
    "name": "ipython",
    "version": 3
   },
   "file_extension": ".py",
   "mimetype": "text/x-python",
   "name": "python",
   "nbconvert_exporter": "python",
   "pygments_lexer": "ipython3",
   "version": "3.6.5"
  }
 },
 "nbformat": 4,
 "nbformat_minor": 2
}
