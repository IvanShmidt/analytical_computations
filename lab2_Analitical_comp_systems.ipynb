{
 "cells": [
  {
   "cell_type": "code",
   "execution_count": 4,
   "metadata": {},
   "outputs": [],
   "source": [
    "\n",
    "import numpy as np\n",
    "from sympy import *\n",
    "import math\n",
    "from tqdm import tqdm_notebook\n"
   ]
  },
  {
   "cell_type": "code",
   "execution_count": 5,
   "metadata": {},
   "outputs": [],
   "source": [
    "A13=Matrix([[0,1,1,1,1,1,1,0,0,1,0,0,0,0,1,1,0,1,1],\n",
    "            [1,0,1,1,0,1,1,0,0,0,1,1,1,1,1,0,1,0,0],\n",
    "            [0,1,1,0,0,1,0,0,0,0,1,0,0,0,1,0,1,1,1],\n",
    "            [1,1,0,0,0,1,0,0,0,1,1,0,0,0,0,1,0,1,0],\n",
    "            [1,0,1,1,1,1,1,1,1,0,1,0,1,1,1,0,0,0,0],\n",
    "            [0,0,1,0,1,0,0,0,0,0,1,0,1,1,1,0,1,1,1],\n",
    "            [1,1,1,1,1,0,1,0,1,0,1,1,0,0,0,1,1,0,1],\n",
    "            [0,0,0,0,1,1,0,1,0,0,1,1,0,0,1,1,0,1,0],\n",
    "            [1,1,1,1,0,0,1,0,1,1,0,0,1,0,0,1,1,0,1],\n",
    "            [0,0,0,0,0,0,0,0,0,0,1,1,0,0,1,0,1,1,1],\n",
    "            [0,1,0,1,0,1,1,1,0,1,1,0,0,1,0,1,0,1,0],\n",
    "            [1,1,1,1,1,0,1,1,0,0,0,1,1,1,0,0,0,1,1],\n",
    "            [0,1,0,1,0,0,0,0,1,1,1,0,0,0,0,1,1,1,0],\n",
    "            [0,0,1,1,1,0,1,0,1,1,0,1,1,1,1,1,1,0,1],\n",
    "            [0,0,1,1,1,0,0,0,0,1,1,1,1,1,1,1,1,0,0],\n",
    "            [1,0,1,1,0,1,1,1,1,0,0,0,1,0,0,1,0,1,1],\n",
    "            [0,1,1,0,1,1,0,0,0,1,1,1,1,1,0,0,0,1,0],\n",
    "            [1,1,0,1,0,1,0,0,0,1,0,0,0,1,0,1,0,1,0],\n",
    "            [0,0,0,0,0,1,0,1,0,0,1,1,1,1,1,0,1,1,0]])\n",
    "\n",
    "\n",
    "\n",
    "A2=Matrix([[1,0,0,1,1,1,0,0,0,1,1,1,1,0,1,0,0,0,1],\n",
    "           [0,0,0,0,1,0,0,1,1,1,0,0,1,0,0,0,1,1,1],\n",
    "           [0,1,1,1,0,1,1,0,0,1,1,0,0,0,1,0,1,0,0],\n",
    "           [1,1,1,0,0,0,0,0,1,0,0,1,0,1,1,1,0,0,1],\n",
    "           [1,1,0,1,0,0,0,0,0,0,1,1,1,1,0,1,0,0,0],\n",
    "           [1,1,1,0,0,0,0,0,0,0,1,0,1,1,0,0,0,0,0],\n",
    "           [0,1,0,0,0,0,1,0,1,0,0,0,1,0,0,1,0,1,1],\n",
    "           [0,0,1,1,0,0,0,1,0,1,1,0,0,0,0,1,0,0,1],\n",
    "           [0,0,0,0,1,1,1,0,1,0,0,1,1,0,0,1,1,0,1],\n",
    "           [1,1,0,0,0,1,1,1,1,0,0,1,0,0,0,1,1,0,1],\n",
    "           [0,0,0,1,1,1,0,1,0,0,0,0,0,0,0,0,0,0,1],\n",
    "           [0,0,0,1,0,1,1,1,0,0,1,1,1,0,0,0,1,1,1],\n",
    "           [1,1,1,1,0,0,0,0,1,0,0,0,1,0,0,0,1,1,1],\n",
    "           [1,0,0,0,1,1,1,0,0,1,0,0,1,0,0,0,0,0,0],\n",
    "           [0,1,1,0,0,1,1,0,0,0,1,0,0,0,0,1,0,1,1],\n",
    "           [1,1,0,1,0,1,0,1,1,0,1,0,0,1,0,1,1,0,1],\n",
    "           [1,0,1,1,1,0,1,1,1,1,1,1,0,1,0,0,0,0,0],\n",
    "           [0,1,0,1,1,1,1,1,0,1,0,1,0,1,1,1,1,1,0],\n",
    "           [1,0,1,0,1,1,1,1,1,1,0,1,1,0,1,1,0,1,1]])\n",
    "\n",
    "\n",
    "z = Symbol('z',real=True)\n",
    "Az = A13\n",
    "\n",
    "def polynomial():\n",
    "    \n",
    "    E = eye(19)\n",
    "    for i in range(19):\n",
    "        for j in range(19):\n",
    "            if Az[i,j] == 1:\n",
    "                Az[i,j] = z\n",
    "                \n",
    "    _det = det(E - Az)\n",
    "    ex_det = (expand(_det))\n",
    "    \n",
    "    return ex_det\n",
    "\n",
    "\n",
    "def irreducible(pol):\n",
    "    Q = factor(pol)\n",
    "    return \"Неприводим\" if Q == pol else \"Приводим\"\n",
    "\n",
    "#chp = polynomial()\n",
    "#irreducible(chp)"
   ]
  },
  {
   "cell_type": "code",
   "execution_count": 8,
   "metadata": {},
   "outputs": [
    {
     "data": {
      "application/vnd.jupyter.widget-view+json": {
       "model_id": "0f8baba328f74612885af1252df094cc",
       "version_major": 2,
       "version_minor": 0
      },
      "text/plain": [
       "HBox(children=(IntProgress(value=0, max=65536), HTML(value='')))"
      ]
     },
     "metadata": {},
     "output_type": "display_data"
    },
    {
     "name": "stdout",
     "output_type": "stream",
     "text": [
      "\n",
      "1 - 1000111101110000\n",
      "2 - 1001110101100010\n",
      "3 - 1010011101011000\n",
      "4 - 1010101101010100\n",
      "5 - 1010110101010010\n",
      "6 - 1011010101001010\n",
      "7 - 1011100101000110\n",
      "8 - 1011111101000000\n",
      "9 - 1100011100111000\n",
      "10 - 1101010100101010\n",
      "11 - 1110001100011100\n",
      "12 - 1110010100011010\n",
      "13 - 1110111100010000\n",
      "14 - 1111000100001110\n",
      "15 - 1111011100001000\n",
      "16 - 1111110100000010\n"
     ]
    }
   ],
   "source": [
    "# Задание 2\n",
    "\n",
    "# Проверка на функцию Де Брейна\n",
    "def validate(fvec):\n",
    "    dcoef = {}\n",
    "    for i in range(16):\n",
    "        nstr = ''.join(['0'] * (4-len(bin(i)[2:]))) + bin(i)[2:]\n",
    "        dcoef[nstr] = [str(fvec[i]), 0]\n",
    "        \n",
    "    k = '0000'\n",
    "    while dcoef[k][1] == 0:\n",
    "        dcoef[k][1] = 1\n",
    "        k = k[1:] + dcoef[k][0]\n",
    "    \n",
    "    flg = 0\n",
    "    for key in dcoef.keys():\n",
    "        if dcoef[key][1] != 1:\n",
    "            flg = 1\n",
    "        #print(k, dcoef[k])\n",
    "            \n",
    "    if flg == 0 and k == '0000':\n",
    "        return True\n",
    "    else :\n",
    "        return False\n",
    "    \n",
    "    \n",
    "# Поиск функций Де Брейна от 4 переменных\n",
    "def Br_funks():\n",
    "    Br4_funk_list = []\n",
    "    for i in tqdm_notebook(range(2**16)):\n",
    "        val = validate(''.join(['0'] * (16-len(bin(i)[2:]))) + bin(i)[2:])\n",
    "        if val:\n",
    "            Br4_funk_list.append(''.join(['0'] * (16-len(bin(i)[2:]))) + bin(i)[2:])\n",
    "            #print(''.join(['0'] * (16-len(bin(i)[2:]))) + bin(i)[2:])\n",
    "    return Br4_funk_list\n",
    "\n",
    "Brfunks = Br_funks()\n",
    "for i, f in enumerate(Brfunks):\n",
    "    print(i+1, '-', f)"
   ]
  },
  {
   "cell_type": "code",
   "execution_count": 6,
   "metadata": {},
   "outputs": [
    {
     "name": "stdout",
     "output_type": "stream",
     "text": [
      "Таблица Истинности:\n",
      "0000 1\n",
      "0001 1\n",
      "0010 1\n",
      "0011 1\n",
      "0100 1\n",
      "0101 1\n",
      "0110 0\n",
      "0111 1\n",
      "1000 0\n",
      "1001 0\n",
      "1010 0\n",
      "1011 0\n",
      "1100 0\n",
      "1101 0\n",
      "1110 1\n",
      "1111 0\n",
      "Цикл вершин графа функции:\n",
      "0000 -> 0001 -> 0011 -> 0111 -> 1111 -> 1110 -> 1101 -> 1010 -> 0100 -> 1001 -> 0010 -> 0101 -> 1011 -> 0110 -> 1100 -> 1000 -> 0000\n"
     ]
    }
   ],
   "source": [
    "# печать графа функции\n",
    "def funk_graph(fvec):\n",
    "    dcoef = {}\n",
    "    for i in range(16):\n",
    "        nstr = ''.join(['0'] * (4-len(bin(i)[2:]))) + bin(i)[2:]\n",
    "        dcoef[nstr] = [str(fvec[i]), 0]\n",
    "    \n",
    "    k = '0000'\n",
    "    while dcoef[k][1] == 0:\n",
    "        print(k, '->', end=' ')\n",
    "        dcoef[k][1] = 1\n",
    "        k = k[1:] + dcoef[k][0]\n",
    "    print(k)\n",
    "    \n",
    "def table_graph(fvec):\n",
    "    dcoef = {}\n",
    "    for i in range(16):\n",
    "        nstr = ''.join(['0'] * (4-len(bin(i)[2:]))) + bin(i)[2:]\n",
    "        print(nstr, fvec[i])\n",
    "        \n",
    "print('Таблица Истинности:')\n",
    "table_graph('1111110100000010')\n",
    "print('Цикл вершин графа функции:')\n",
    "funk_graph('1111110100000010')"
   ]
  },
  {
   "cell_type": "code",
   "execution_count": 62,
   "metadata": {},
   "outputs": [
    {
     "name": "stdout",
     "output_type": "stream",
     "text": [
      "Коэффициенты Адамара–Уолша:\n",
      "0.0 ; 0.0 ; 0.0 ; 0.0 ; 0.0 ; 0.0 ; 0.0 ; 0.0 ; -12.0 ; 4.0 ; -4.0 ; -4.0 ; -4.0 ; -4.0 ; 4.0 ; 4.0 ; "
     ]
    }
   ],
   "source": [
    "\n",
    "\n",
    "def W_matr(shape):\n",
    "    if shape != (2,2):\n",
    "        limit = shape[0]//2\n",
    "        a = W_matr((limit, limit))\n",
    "        b = np.zeros([2*i for i in a.shape])\n",
    "        for i in range(a.shape[0]):\n",
    "            for j in range(a.shape[0]):\n",
    "                b[i,j]             = a[i,j]\n",
    "                b[i+limit,j]       = a[i,j]\n",
    "                b[i,j+limit]       = a[i,j]\n",
    "                b[i+limit,j+limit] = -1*a[i,j]\n",
    "        return b\n",
    "    else:\n",
    "        return np.array([[1, 1], [1, -1]])\n",
    "\n",
    "    \n",
    "def exp_f(fvec, dim):\n",
    "    # fvec - string\n",
    "    fvec = [int(i) for i in fvec]\n",
    "    return np.array([1]*2**dim) - 2 * np.array(fvec)\n",
    "    \n",
    "\n",
    "def Walsh_coef(fvec, dim):\n",
    "    # fvec - string\n",
    "    W = W_matr((2**dim, 2**dim))\n",
    "    return W.dot(exp_f(fvec, dim))\n",
    "\n",
    "print('Коэффициенты Адамара–Уолша:')\n",
    "wf = Walsh_coef('1111110100000010', 4)\n",
    "for w in wf:\n",
    "    print(w, ';', end=' ')"
   ]
  },
  {
   "cell_type": "code",
   "execution_count": 63,
   "metadata": {},
   "outputs": [
    {
     "name": "stdout",
     "output_type": "stream",
     "text": [
      "Многочлен Жегалкина:\n",
      "a0000 = 1\n",
      "a0001 = 0\n",
      "a0010 = 0\n",
      "a0011 = 0\n",
      "a0100 = 0\n",
      "a0101 = 0\n",
      "a0110 = 1\n",
      "a0111 = 1\n",
      "a1000 = 1\n",
      "a1001 = 0\n",
      "a1010 = 0\n",
      "a1011 = 0\n",
      "a1100 = 0\n",
      "a1101 = 0\n",
      "a1110 = 0\n",
      "a1111 = 0\n"
     ]
    }
   ],
   "source": [
    "def ANF(fvec, dim):\n",
    "    arr = [int(i) for i in fvec]\n",
    "    for i in range(2**dim):\n",
    "        nstr = ''.join(['0'] * (dim-len(bin(i)[2:]))) + bin(i)[2:]\n",
    "        print('a{} = {}'.format(nstr, arr[0]))\n",
    "        for j in range(len(arr)-1):\n",
    "            arr[j] = (arr[j]+arr[j+1])%2\n",
    "        arr = arr[:-1]\n",
    "    \n",
    "print('Многочлен Жегалкина:')\n",
    "ANF('1111110100000010', 4)"
   ]
  },
  {
   "cell_type": "code",
   "execution_count": null,
   "metadata": {},
   "outputs": [],
   "source": []
  },
  {
   "cell_type": "code",
   "execution_count": null,
   "metadata": {},
   "outputs": [],
   "source": []
  }
 ],
 "metadata": {
  "kernelspec": {
   "display_name": "Python 3",
   "language": "python",
   "name": "python3"
  },
  "language_info": {
   "codemirror_mode": {
    "name": "ipython",
    "version": 3
   },
   "file_extension": ".py",
   "mimetype": "text/x-python",
   "name": "python",
   "nbconvert_exporter": "python",
   "pygments_lexer": "ipython3",
   "version": "3.6.7"
  }
 },
 "nbformat": 4,
 "nbformat_minor": 2
}
